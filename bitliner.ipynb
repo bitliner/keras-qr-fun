{
 "cells": [
  {
   "cell_type": "code",
   "execution_count": 9,
   "metadata": {
    "collapsed": false
   },
   "outputs": [],
   "source": [
    "\n",
    "\n",
    "\n",
    "import numpy\n",
    "import numpy as np\n",
    "import matplotlib.pyplot as plt\n",
    "import pandas\n",
    "import math\n",
    "from keras.models import Sequential\n",
    "from keras.layers import Dense\n",
    "from keras.layers import LSTM\n",
    "from sklearn.preprocessing import MinMaxScaler\n",
    "from sklearn.metrics import mean_squared_error\n",
    "from qrset import random_messages, ALPHABET, generate_messages, \\\n",
    "     generate_png, generate_messages_png, load_qr_set,\\\n",
    "     generate_qr_array\n",
    "\n",
    "\n"
   ]
  },
  {
   "cell_type": "code",
   "execution_count": 10,
   "metadata": {
    "collapsed": false
   },
   "outputs": [],
   "source": [
    "message_length = 100\n",
    "alphabet = ALPHABET\n",
    "def qr_factory(message_length, alphabet=ALPHABET, variable_length=True, image_shape=(100,100)):\n",
    "    while 1:\n",
    "        message = random_messages(1, message_length, alphabet=alphabet, variable_length=True)\n",
    "        arr = generate_qr_array('hi', image_shape=image_shape)\n",
    "        yield (arr.flatten()[np.newaxis,:], np.array(message[0]))"
   ]
  },
  {
   "cell_type": "code",
   "execution_count": 14,
   "metadata": {
    "collapsed": false
   },
   "outputs": [
    {
     "name": "stdout",
     "output_type": "stream",
     "text": [
      "(array([[ 0.416025,  0.603075,  0.645   , ...,  0.645   ,  0.603075,\n",
      "         0.416025]]), array('VhYfD%mf\\\\+||GoLlub\"af~hD_bRibr<D{\"KxsRW[TFqQ:g`%$gBS>', \n",
      "      dtype='<U53'))\n"
     ]
    }
   ],
   "source": [
    "generator = qr_factory((message_length))\n",
    "for m in generator:\n",
    "    print(m)\n",
    "    break"
   ]
  },
  {
   "cell_type": "code",
   "execution_count": null,
   "metadata": {
    "collapsed": true
   },
   "outputs": [],
   "source": [
    "model = Sequential()\n",
    "model.add(LSTM(4, input_dim=look_back))\n",
    "model.add(Dense(1))\n",
    "model.compile(loss='mean_squared_error', optimizer='adam')\n",
    "model.fit(trainX, trainY, nb_epoch=100, batch_size=1, verbose=2)"
   ]
  }
 ],
 "metadata": {
  "anaconda-cloud": {},
  "kernelspec": {
   "display_name": "Python [Root]",
   "language": "python",
   "name": "Python [Root]"
  },
  "language_info": {
   "codemirror_mode": {
    "name": "ipython",
    "version": 3
   },
   "file_extension": ".py",
   "mimetype": "text/x-python",
   "name": "python",
   "nbconvert_exporter": "python",
   "pygments_lexer": "ipython3",
   "version": "3.5.2"
  }
 },
 "nbformat": 4,
 "nbformat_minor": 0
}
